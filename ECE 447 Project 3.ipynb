{
 "cells": [
  {
   "cell_type": "markdown",
   "id": "06f49df9",
   "metadata": {},
   "source": [
    "# Betrayal Detection in Diplomacy"
   ]
  },
  {
   "cell_type": "markdown",
   "id": "ebb3ad50",
   "metadata": {},
   "source": [
    "Diplomacy is a strategic board game with social deception elements. The game consists of phases where players may negotiate and betray each other. We will attempt to predict whether betrayal occurs based off of the messages that players send to each other."
   ]
  },
  {
   "cell_type": "code",
   "execution_count": 105,
   "id": "c275bdeb",
   "metadata": {},
   "outputs": [],
   "source": [
    "import pandas as pd\n",
    "import numpy as np\n",
    "import matplotlib.pyplot as plt\n",
    "import seaborn as sns\n",
    "from sklearn.preprocessing import StandardScaler\n",
    "from sklearn.model_selection import train_test_split,cross_val_score\n",
    "\n",
    "from sklearn.tree import DecisionTreeClassifier\n",
    "\n",
    "from sklearn.metrics import classification_report,confusion_matrix"
   ]
  },
  {
   "cell_type": "markdown",
   "id": "6efcb3dc",
   "metadata": {},
   "source": [
    "# Basic Preprocessing\n",
    "\n",
    "First we preprocess the dataset into a dataframe that is easier to interpret for exploration/training."
   ]
  },
  {
   "cell_type": "code",
   "execution_count": 106,
   "id": "dd722d7e",
   "metadata": {},
   "outputs": [
    {
     "name": "stdout",
     "output_type": "stream",
     "text": [
      "<class 'pandas.core.frame.DataFrame'>\n",
      "RangeIndex: 500 entries, 0 to 499\n",
      "Data columns (total 5 columns):\n",
      " #   Column    Non-Null Count  Dtype \n",
      "---  ------    --------------  ----- \n",
      " 0   seasons   500 non-null    object\n",
      " 1   game      500 non-null    int64 \n",
      " 2   betrayal  500 non-null    bool  \n",
      " 3   idx       500 non-null    int64 \n",
      " 4   people    500 non-null    object\n",
      "dtypes: bool(1), int64(2), object(2)\n",
      "memory usage: 16.2+ KB\n",
      "None\n",
      "8\n",
      "<class 'dict'>\n",
      "{'sentiment': {'positive': 1, 'neutral': 3, 'negative': 5}, 'lexicon_words': {'disc_temporal_rest': ['before', 'still'], 'allsubj': ['move', 'ally', 'will', 'want', 'will', 'could', 'fall', 'support', 'enemy', 'might', 'move', 'losing', 'sure', 'crazy', 'lose', 'decide', 'think', 'support', 'retreat', 'most', 'good', 'likely', 'will', 'good', 'still', 'trust'], 'disc_expansion': ['until', 'yet', 'instead'], 'disc_contingency': ['until'], 'premise': ['for', 'for'], 'disc_temporal_future': ['until'], 'disc_comparison': ['instead', 'yet', 'still']}, 'n_requests': 7, 'frequent_words': ['more', 'let', 'keep', 'we', 'side', 'we', \"don't\", 'to', '.', 'be', 'ally', '.', 'be', 'it', 'to', 'you', 'saying', 'to', 'to', 'most', 'the', 'is', 'the', 'will', 'doing', 'helping', 'to', 'have', 'but', 'move', 'this', '.', 'retake', 'stp', 'there', 'by', 'an', 'to', 'sure', 'that', 'mos', 'you', 'decide', 'will', '.', 'there', 'you', 'can', 'this', 'and', 'but', 'a', 'out', 'move', 'support', 'have', 'an', ',', 'want', 'one', 'good', 'your', 'by', 'if', 'do', 'yet', 'from', 'and', 'might', 'your', ',', 'for', 'for', 'me', '.', 'until', 'will', 'retreat', 'troops', \"didn't\", 'if', 'an', 'we', 'this', 'our', 'trust', 'of', 'likely', 'in', 'before', '.', 'that', 'something', 'i', 'they', 'crazy', 'lose', 'my', 'think', 'prevent', 'enemy', 'run', 'i', 'the', 'with', 'hand', 'it', 'still', 'ground', 'support', 'my', 'this', 'army', 'to', 'their', 'you', 'if', 'could', ',', 'instead', 'up', 'turkey', 'fall', 'of', 'bounce', 'one', 'army', 'the', 'good', 'am', 'of', '.', '.', 'i', 'to', ',', 'do', 'going', 'losing', 'i', 'can', 'you'], 'n_words': 146, 'politeness': 0.8320231865382111, 'n_sentences': 9}\n",
      "\n",
      "{'sentiment': {'positive': 3, 'neutral': 0, 'negative': 2}, 'lexicon_words': {'allsubj': ['pressure', 'try', 'game', 'move', 'move', 'think', 'interesting', 'will', 'sound', 'guarantee', 'too', 'little', 'moving', 'try', 'will', 'able', 'intentions', 'death', 'still', 'interesting', 'like', 'moving', 'good', 'will', 'moving', 'upset', 'ensure', 'move', 'thinking', 'attack'], 'disc_temporal_rest': ['still'], 'disc_expansion': ['as if'], 'disc_comparison': ['still', 'as if'], 'premise': ['as', 'for']}, 'n_requests': 5, 'frequent_words': ['to', 'of', 'if', 'to', 'try', 'they', 'it', 'to', 'keeping', 'and', 'with', 'have', 'a', 'fleet', 'try', '.', 'and', 'have', 'for', '.', 'too', 'france', ',', 'that', '?', 'to', 'the', 'move', 'say', 'you', 'continue', 'what', 'france', 'i', 'turkey', 'to', 'following', 'get', 'my', 'gre', 'interesting', 'sound', 'to', 'working', 'be', 'guarantee', 'still', '.', '.', 'mos', 'was', 'moving', 'little', 'through', 'my', 'make', 'on', 'like', 'good', 'the', 'you', 'able', 'pressure', 'move', 'did', 'to', 'your', 'things', 'germany', 'will', ',', 'moving', 'interesting', 'gre', 'from', 'french', 'there', 'things', ',', 'on', 'will', 'turned', 'see', 'fleet', 'with', ',', 'to', 'attack', 'moving', 'thinking', 'ion', 'italy', 'fleet', 'with', 'bounce', 'to', 'put', 'to', 'game', 'are', 'was', 'by', 'ion', 'i', 'intentions', 'as', 'a', 'looks', 'a', 'army', 'my', 'their', 'but', 'we', 'south', 'this', 'to', 'your', 'seems', 'we', 'your', 'can', 'supported', 'will', 'if', 'think', 'dislodged', 'and', 'ensure', 'move'], 'n_words': 133, 'politeness': 0.951927267387322, 'n_sentences': 5}\n",
      "\n",
      "{'sentiment': {'positive': 0, 'neutral': 3, 'negative': 0}, 'lexicon_words': {'claim': ['so'], 'allsubj': ['against', 'well', 'will', 'should', 'so'], 'premise': ['as']}, 'n_requests': 3, 'frequent_words': ['one', 'us', ',', 'the', 'going', 'planned', 'am', 'of', '?', 'with', 'we', 'which', 'should', 'how', 'but', 'as', 'continue', 'against', 'so', 'all', 'our', 'is', '.', 'we', 'southern', 'the', 'assuming', ',', 'well', 'the', 'turkey', 'will', '?', 'plan', 'start', 'shall', 'advance', 'i'], 'n_words': 41, 'politeness': 0.42776474672385706, 'n_sentences': 3}\n",
      "\n",
      "{'sentiment': {'positive': 2, 'neutral': 0, 'negative': 0}, 'lexicon_words': {'allsubj': ['great', 'real', 'will', 'war', 'intelligence', 'able', 'will', 'think', 'move', 'will'], 'disc_expansion': ['then'], 'disc_contingency': ['then'], 'premise': ['for'], 'disc_temporal_future': ['then'], 'disc_comparison': ['then']}, 'n_requests': 2, 'frequent_words': ['real', 'for', 'then', 'french', 'that', 'the', 'hear', 'the', 'move', '.', 'continue', 'that', 'play', 'one', 'able', 'on', 'more', 'their', 'will', 'will', 'great', 'side', 'to', 'to', 'from', 'take', 'be', 'with', 'with', 'them', 'we', 'think', 'war', 'i', 'and', 'get', 'will', 'start', 'more', 'i', '.', 'to', ',', 'to', 'time', 'and'], 'n_words': 49, 'politeness': 0.9348215021058941, 'n_sentences': 2}\n",
      "\n",
      "{'sentiment': {'positive': 0, 'neutral': 1, 'negative': 2}, 'lexicon_words': {'allsubj': ['alliance', 'fall', 'pretty', 'move', 'sorry', 'intend', 'intend', 'normal', 'fun', 'would', 'fully', 'will']}, 'n_requests': 2, 'frequent_words': ['it', 'in', 'to', 'message', 'mentioned', 'intend', 'you', 'plans', 'i', 'my', 'leave', 'will', 'would', 'last', 'and', 'to', \"don't\", 'fun', 'with', ',', 'fully', 'alliance', 'the', 'that', 'thing', 'sorry', 'i', ',', 'our', 'with', 'move', 'an', 'be', 'one', ',', ',', 'pretty', 'the', '.', 'to', 'be', 'intend', 'army', 'our', 'and', 'i', 'there', 'fall', 'to', 'if', '.', 'french', 'builds', 'in', \"wasn't\", '.', 'my', 'i', 'mos', 'previous', 'if', 'keep'], 'n_words': 66, 'politeness': 0.695410760729795, 'n_sentences': 3}\n",
      "\n",
      "{'sentiment': {'positive': 2, 'neutral': 1, 'negative': 0}, 'lexicon_words': {'allsubj': ['most', 'would', 'want', 'think', 'evil', 'best', 'alliance', 'damage', 'think'], 'disc_expansion': ['next'], 'disc_temporal_future': ['next'], 'premise': ['for']}, 'n_requests': 3, 'frequent_words': ['.', 'be', 'you', 'to', 'for', 'to', 'we', 'go', 'direction', 'next', 'first', 'take', 'the', 'thanks', 'the', 'that', ',', 'most', '?', '?', 'france', 'north', 'germany', 'which', 'and', 'want', 'best', 'both', 'direction', 'do', 'you', 'or', 'the', 'would', 'do', 'from', 'think', 'do', 'the', 'one', 'think', 'alliance', 'i', 'focus', 'or', 'the', 'give', 'of', 'we', 'which', 'you', 'can'], 'n_words': 54, 'politeness': 0.9780210743462541, 'n_sentences': 3}\n",
      "\n"
     ]
    }
   ],
   "source": [
    "df = pd.read_json('diplomacy_data.json')\n",
    "# entries represent an interaction between two players in a particular game, spread across\n",
    "# all of the games seasons\n",
    "\n",
    "print(df.info()) # format\n",
    "\n",
    "seasons = df['seasons'] # pandas series that has all the seasons info for this particular entry\n",
    "\n",
    "seasons_in_first_entry = seasons[0] # list containing all 8 seasons in this particular entry \n",
    "print(len(seasons_in_first_entry))\n",
    "\n",
    "first_season_of_first_entry = seasons_in_first_entry[0]\n",
    "print(type(first_season_of_first_entry))\n",
    "# print(first_season_of_first_entry) # the first season of this entry\n",
    "\n",
    "msgs_of_betrayer_in_first_season_of_first_entry = first_season_of_first_entry['messages']['betrayer']\n",
    "\n",
    "# print(msgs_of_first_season_of_first_entry) # list of all data for betrayer messages in first season of first entry\n",
    "\n",
    "for i in msgs_of_betrayer_in_first_season_of_first_entry:\n",
    "    print(i)\n",
    "    print(\"\")\n",
    "\n"
   ]
  }
 ],
 "metadata": {
  "kernelspec": {
   "display_name": "Python 3 (ipykernel)",
   "language": "python",
   "name": "python3"
  },
  "language_info": {
   "codemirror_mode": {
    "name": "ipython",
    "version": 3
   },
   "file_extension": ".py",
   "mimetype": "text/x-python",
   "name": "python",
   "nbconvert_exporter": "python",
   "pygments_lexer": "ipython3",
   "version": "3.9.7"
  }
 },
 "nbformat": 4,
 "nbformat_minor": 5
}
