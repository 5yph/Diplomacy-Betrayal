{
 "cells": [
  {
   "cell_type": "markdown",
   "id": "06f49df9",
   "metadata": {},
   "source": [
    "# Betrayal Detection in Diplomacy"
   ]
  },
  {
   "cell_type": "markdown",
   "id": "ebb3ad50",
   "metadata": {},
   "source": [
    "Diplomacy is a strategic board game with social deception elements. The game consists of phases where players may negotiate and betray each other. We will attempt to predict whether betrayal occurs based off of the messages that players send to each other."
   ]
  },
  {
   "cell_type": "code",
   "execution_count": 111,
   "id": "c275bdeb",
   "metadata": {},
   "outputs": [],
   "source": [
    "import pandas as pd\n",
    "import numpy as np\n",
    "import matplotlib.pyplot as plt\n",
    "import seaborn as sns\n",
    "from sklearn.preprocessing import StandardScaler\n",
    "from sklearn.model_selection import train_test_split,cross_val_score\n",
    "\n",
    "from sklearn.tree import DecisionTreeClassifier\n",
    "\n",
    "from sklearn.metrics import classification_report,confusion_matrix"
   ]
  },
  {
   "cell_type": "markdown",
   "id": "6efcb3dc",
   "metadata": {},
   "source": [
    "# Basic Preprocessing\n",
    "\n",
    "First we preprocess the dataset into a dataframe that is easier to interpret for exploration/training."
   ]
  },
  {
   "cell_type": "code",
   "execution_count": 112,
   "id": "dd722d7e",
   "metadata": {
    "scrolled": true
   },
   "outputs": [
    {
     "name": "stdout",
     "output_type": "stream",
     "text": [
      "<class 'pandas.core.frame.DataFrame'>\n",
      "RangeIndex: 500 entries, 0 to 499\n",
      "Data columns (total 5 columns):\n",
      " #   Column    Non-Null Count  Dtype \n",
      "---  ------    --------------  ----- \n",
      " 0   seasons   500 non-null    object\n",
      " 1   game      500 non-null    int64 \n",
      " 2   betrayal  500 non-null    bool  \n",
      " 3   idx       500 non-null    int64 \n",
      " 4   people    500 non-null    object\n",
      "dtypes: bool(1), int64(2), object(2)\n",
      "memory usage: 16.2+ KB\n",
      "None\n",
      "8\n",
      "<class 'dict'>\n",
      "sentiment\n",
      "{'positive': 1, 'neutral': 3, 'negative': 5}\n",
      "\n",
      "lexicon_words\n",
      "{'disc_temporal_rest': ['before', 'still'], 'allsubj': ['move', 'ally', 'will', 'want', 'will', 'could', 'fall', 'support', 'enemy', 'might', 'move', 'losing', 'sure', 'crazy', 'lose', 'decide', 'think', 'support', 'retreat', 'most', 'good', 'likely', 'will', 'good', 'still', 'trust'], 'disc_expansion': ['until', 'yet', 'instead'], 'disc_contingency': ['until'], 'premise': ['for', 'for'], 'disc_temporal_future': ['until'], 'disc_comparison': ['instead', 'yet', 'still']}\n",
      "\n",
      "n_requests\n",
      "7\n",
      "\n",
      "frequent_words\n",
      "['more', 'let', 'keep', 'we', 'side', 'we', \"don't\", 'to', '.', 'be', 'ally', '.', 'be', 'it', 'to', 'you', 'saying', 'to', 'to', 'most', 'the', 'is', 'the', 'will', 'doing', 'helping', 'to', 'have', 'but', 'move', 'this', '.', 'retake', 'stp', 'there', 'by', 'an', 'to', 'sure', 'that', 'mos', 'you', 'decide', 'will', '.', 'there', 'you', 'can', 'this', 'and', 'but', 'a', 'out', 'move', 'support', 'have', 'an', ',', 'want', 'one', 'good', 'your', 'by', 'if', 'do', 'yet', 'from', 'and', 'might', 'your', ',', 'for', 'for', 'me', '.', 'until', 'will', 'retreat', 'troops', \"didn't\", 'if', 'an', 'we', 'this', 'our', 'trust', 'of', 'likely', 'in', 'before', '.', 'that', 'something', 'i', 'they', 'crazy', 'lose', 'my', 'think', 'prevent', 'enemy', 'run', 'i', 'the', 'with', 'hand', 'it', 'still', 'ground', 'support', 'my', 'this', 'army', 'to', 'their', 'you', 'if', 'could', ',', 'instead', 'up', 'turkey', 'fall', 'of', 'bounce', 'one', 'army', 'the', 'good', 'am', 'of', '.', '.', 'i', 'to', ',', 'do', 'going', 'losing', 'i', 'can', 'you']\n",
      "\n",
      "n_words\n",
      "146\n",
      "\n",
      "politeness\n",
      "0.8320231865382111\n",
      "\n",
      "n_sentences\n",
      "9\n",
      "\n"
     ]
    }
   ],
   "source": [
    "df = pd.read_json('diplomacy_data.json')\n",
    "# entries represent an interaction between two players in a particular game, spread across\n",
    "# all of the games seasons\n",
    "\n",
    "print(df.info()) # format\n",
    "\n",
    "seasons = df['seasons'] # pandas series that has all the seasons info for this particular entry\n",
    "\n",
    "seasons_in_first_entry = seasons[0] # list containing all 8 seasons in this particular entry \n",
    "print(len(seasons_in_first_entry))\n",
    "\n",
    "first_season_of_first_entry = seasons_in_first_entry[0]\n",
    "print(type(first_season_of_first_entry))\n",
    "# print(first_season_of_first_entry) # the first season of this entry\n",
    "\n",
    "msgs_of_betrayer_in_first_season_of_first_entry = first_season_of_first_entry['messages']['betrayer']\n",
    "# list of each message sent by the betrayer in the first season of the first entry\n",
    "\n",
    "first_msg_of_betrayer = msgs_of_betrayer_in_first_season_of_first_entry[0]\n",
    "# contains important data for the message of each betrayer\n",
    "\n",
    "for key in first_msg_of_betrayer.keys():\n",
    "    print(key)\n",
    "    print(first_msg_of_betrayer[key])\n",
    "    print(\"\")\n",
    "\n",
    "\n",
    "    \n",
    "# remove punctuation and numbers from word list"
   ]
  }
 ],
 "metadata": {
  "kernelspec": {
   "display_name": "Python 3 (ipykernel)",
   "language": "python",
   "name": "python3"
  },
  "language_info": {
   "codemirror_mode": {
    "name": "ipython",
    "version": 3
   },
   "file_extension": ".py",
   "mimetype": "text/x-python",
   "name": "python",
   "nbconvert_exporter": "python",
   "pygments_lexer": "ipython3",
   "version": "3.9.7"
  }
 },
 "nbformat": 4,
 "nbformat_minor": 5
}
