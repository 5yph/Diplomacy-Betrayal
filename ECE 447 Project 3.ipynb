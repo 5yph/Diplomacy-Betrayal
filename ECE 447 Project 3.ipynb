{
 "cells": [
  {
   "cell_type": "markdown",
   "id": "06f49df9",
   "metadata": {},
   "source": [
    "# Betrayal Detection in Diplomacy"
   ]
  },
  {
   "cell_type": "markdown",
   "id": "ebb3ad50",
   "metadata": {},
   "source": [
    "Diplomacy is a strategic board game with social deception elements. The game consists of phases where players may negotiate and betray each other. We will attempt to predict whether betrayal occurs based off of the messages that players send to each other."
   ]
  },
  {
   "cell_type": "code",
   "execution_count": null,
   "id": "c275bdeb",
   "metadata": {},
   "outputs": [],
   "source": [
    "import pandas as pd\n",
    "import numpy as np\n",
    "import matplotlib.pyplot as plt\n",
    "import seaborn as sns\n",
    "from sklearn.preprocessing import StandardScaler\n",
    "from sklearn.model_selection import train_test_split,cross_val_score\n",
    "\n",
    "from sklearn.tree import DecisionTreeClassifier\n",
    "\n",
    "from sklearn.metrics import classification_report,confusion_matrix"
   ]
  },
  {
   "cell_type": "markdown",
   "id": "6efcb3dc",
   "metadata": {},
   "source": [
    "# Basic Preprocessing\n",
    "\n",
    "First we preprocess the dataset into a dataframe that is easier to interpret for exploration/training."
   ]
  },
  {
   "cell_type": "code",
   "execution_count": null,
   "id": "dd722d7e",
   "metadata": {},
   "outputs": [],
   "source": []
  }
 ],
 "metadata": {
  "kernelspec": {
   "display_name": "Python 3 (ipykernel)",
   "language": "python",
   "name": "python3"
  },
  "language_info": {
   "codemirror_mode": {
    "name": "ipython",
    "version": 3
   },
   "file_extension": ".py",
   "mimetype": "text/x-python",
   "name": "python",
   "nbconvert_exporter": "python",
   "pygments_lexer": "ipython3",
   "version": "3.9.7"
  }
 },
 "nbformat": 4,
 "nbformat_minor": 5
}
