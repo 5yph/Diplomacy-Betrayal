{
 "cells": [
  {
   "cell_type": "markdown",
   "id": "06f49df9",
   "metadata": {},
   "source": [
    "# Betrayal Detection in Diplomacy"
   ]
  },
  {
   "cell_type": "markdown",
   "id": "ebb3ad50",
   "metadata": {},
   "source": [
    "Diplomacy is a strategic board game with social deception elements. The game consists of phases where players may negotiate and betray each other. We will attempt to predict whether betrayal occurs based off of the messages that players send to each other."
   ]
  },
  {
   "cell_type": "code",
   "execution_count": 1,
   "id": "c275bdeb",
   "metadata": {},
   "outputs": [],
   "source": [
    "import pandas as pd\n",
    "import numpy as np\n",
    "import matplotlib.pyplot as plt\n",
    "import seaborn as sns\n",
    "from sklearn.preprocessing import StandardScaler\n",
    "from sklearn.model_selection import train_test_split,cross_val_score\n",
    "\n",
    "from sklearn.tree import DecisionTreeClassifier\n",
    "\n",
    "from sklearn.metrics import classification_report,confusion_matrix"
   ]
  },
  {
   "cell_type": "markdown",
   "id": "6efcb3dc",
   "metadata": {},
   "source": [
    "# Basic Preprocessing\n",
    "\n",
    "First we preprocess the dataset into a dataframe that is easier to interpret for exploration/training."
   ]
  },
  {
   "cell_type": "code",
   "execution_count": 2,
   "id": "dd722d7e",
   "metadata": {},
   "outputs": [
    {
     "name": "stdout",
     "output_type": "stream",
     "text": [
      "                                               seasons  game  betrayal  idx  \\\n",
      "0    [{'season': 1906.5, 'interaction': {'victim': ...    74      True    0   \n",
      "1    [{'season': 1911.5, 'interaction': {'victim': ...   165     False    1   \n",
      "2    [{'season': 1911.0, 'interaction': {'victim': ...   157     False    2   \n",
      "3    [{'season': 1902.0, 'interaction': {'victim': ...    58     False    3   \n",
      "4    [{'season': 1910.0, 'interaction': {'victim': ...    45     False    4   \n",
      "..                                                 ...   ...       ...  ...   \n",
      "495  [{'season': 1908.0, 'interaction': {'victim': ...   197     False  495   \n",
      "496  [{'season': 1911.5, 'interaction': {'victim': ...   207      True  496   \n",
      "497  [{'season': 1905.5, 'interaction': {'victim': ...   158      True  497   \n",
      "498  [{'season': 1903.0, 'interaction': {'victim': ...   252      True  498   \n",
      "499  [{'season': 1903.5, 'interaction': {'victim': ...   253      True  499   \n",
      "\n",
      "    people  \n",
      "0       AT  \n",
      "1       EG  \n",
      "2       AR  \n",
      "3       AR  \n",
      "4       IT  \n",
      "..     ...  \n",
      "495     RT  \n",
      "496     AR  \n",
      "497     RE  \n",
      "498     GE  \n",
      "499     FG  \n",
      "\n",
      "[500 rows x 5 columns]\n"
     ]
    }
   ],
   "source": [
    "df = pd.read_json('diplomacy_data.json')\n",
    "\n",
    "print(df)"
   ]
  }
 ],
 "metadata": {
  "kernelspec": {
   "display_name": "Python 3 (ipykernel)",
   "language": "python",
   "name": "python3"
  },
  "language_info": {
   "codemirror_mode": {
    "name": "ipython",
    "version": 3
   },
   "file_extension": ".py",
   "mimetype": "text/x-python",
   "name": "python",
   "nbconvert_exporter": "python",
   "pygments_lexer": "ipython3",
   "version": "3.9.7"
  }
 },
 "nbformat": 4,
 "nbformat_minor": 5
}
